{
 "cells": [
  {
   "cell_type": "code",
   "execution_count": 13,
   "id": "2e40f71e",
   "metadata": {},
   "outputs": [],
   "source": [
    "#import matplotlib.pyplot as plt\n",
    "import numpy as np\n",
    "import pandas as pd\n",
    "\n",
    "#!pip install dlisio\n",
    "from dlisio import dlis"
   ]
  },
  {
   "cell_type": "code",
   "execution_count": 14,
   "id": "7746cba2",
   "metadata": {},
   "outputs": [
    {
     "data": {
      "text/plain": [
       "'\\nLoad all the LogicalFile:\\nThe returned files is an instance of PhysicalFile that can be iterated over and operations can be applied to each logical file.\\nIf you only want to work with one logical file at the time, load() supports automatic unpacking of logical files.\\nThe following syntax unpacks the first logical file into f and stores the rest (0-n) logical files into *tail.\\n'"
      ]
     },
     "execution_count": 14,
     "metadata": {},
     "output_type": "execute_result"
    }
   ],
   "source": [
    "'''\n",
    "Load all the LogicalFile:\n",
    "The returned files is an instance of PhysicalFile that can be iterated over and operations can be applied to each logical file.\n",
    "If you only want to work with one logical file at the time, load() supports automatic unpacking of logical files.\n",
    "The following syntax unpacks the first logical file into f and stores the rest (0-n) logical files into *tail.\n",
    "'''"
   ]
  },
  {
   "cell_type": "code",
   "execution_count": 15,
   "id": "9ab6fdbb",
   "metadata": {},
   "outputs": [
    {
     "data": {
      "text/plain": [
       "'\\nFrames are table objects which contain the well log data, where each column represents a logging curve,\\nand that data is indexed by time or depth. Each logging curve within the frame is referred to as a channel.\\nThe channels can be a single dimension or multi-dimensional\\n'"
      ]
     },
     "execution_count": 15,
     "metadata": {},
     "output_type": "execute_result"
    }
   ],
   "source": [
    "'''\n",
    "Frames are table objects which contain the well log data, where each column represents a logging curve,\n",
    "and that data is indexed by time or depth. Each logging curve within the frame is referred to as a channel.\n",
    "The channels can be a single dimension or multi-dimensional\n",
    "'''"
   ]
  },
  {
   "cell_type": "code",
   "execution_count": 16,
   "id": "9c911e98",
   "metadata": {},
   "outputs": [],
   "source": [
    "import glob\n",
    "import os"
   ]
  },
  {
   "cell_type": "code",
   "execution_count": 17,
   "id": "9542d2fa",
   "metadata": {},
   "outputs": [],
   "source": [
    "import itertools\n",
    "totalExtracted=0\n",
    "faultyValueError=0\n",
    "faultyRunTimeError=0\n",
    "def DLISfile(directory):\n",
    "    #Directory contains the general address to the .DLIS files\n",
    "    # Directory='/dlis_files/*.DLIS'\n",
    "    totalNumberOfFilesExtracted=0\n",
    "    faultyDataFilesWithValueError=0\n",
    "    faultyDataFilesWithRunTimeError=0\n",
    "    with dlis.load(directory) as (f, *tail):\n",
    "        \n",
    "        for frame in f.frames:\n",
    "            try:\n",
    "                f.describe()  # will show the component of the data\n",
    "                # data = frame.curves()\n",
    "                curves = pd.DataFrame(frame.curves())\n",
    "                # pdcurves = pd.DataFrame(curves, index=curves[frame.index])\n",
    "                # pdcurves.index.name = frame.index\n",
    "                # column_headings=list(curves.columns)\n",
    "                # print(column_headings)\n",
    "                curves.head()\n",
    "                path = directory.replace(\"\\\\\", '\\\\\\\\') #Replaces \"\\\\\"\" in directory path with \"\\\\\\\\\" so that python will recognize two slashes\n",
    "                directoryCreatePath = os.path.dirname(directory) #returns the directory name as a string by dropping the file name \n",
    "\n",
    "                #replaces the first argument(current directory name) with the second argument(a new directory name)\n",
    "                directoryCreatePath = directoryCreatePath.replace(\"01.MUD_LOG\", \"Extracted Data from 01.MUD_LOG\") \n",
    "\n",
    "                #if the created directory(folder) within the main directory does not already exist, creates the directory with all inner directories\n",
    "                if not os.path.exists(directoryCreatePath): \n",
    "                    os.makedirs(directoryCreatePath)\n",
    "                fileName = path.replace(\"01.MUD_LOG\", \"Extracted Data from 01.MUD_LOG\") #replaces 01.MUD_LOG in path variable with Extracted MUD_LOG LIS Data\n",
    "                fileName = fileName.replace(\".DLIS\", \".csv\") #changes file extension in fileName string from .LIS to .csv for output to excel spreadsheet\n",
    "                curves.to_csv(fileName) #outputs pandas dataframe to csv file at path and filename specified in fileName string\n",
    "                curves = curves[0:0] #resets pandas dataframe\n",
    "                totalNumberOfFilesExtracted += 1\n",
    "            except ValueError:\n",
    "                curves = pd.DataFrame(list(itertools.chain(*frame.curves())))\n",
    "                path = directory.replace(\"\\\\\", '\\\\\\\\') #Replaces \"\\\\\"\" in directory path with \"\\\\\\\\\" so that python will recognize two slashes\n",
    "                directoryCreatePath = os.path.dirname(directory) #returns the directory name as a string by dropping the file name \n",
    "                #replaces the first argument(current directory name) with the second argument(a new directory name)\n",
    "                directoryCreatePath = directoryCreatePath.replace(\"01.MUD_LOG\", \"Extracted Data from 01.MUD_LOG\") \n",
    "                #if the created directory(folder) within the main directory does not already exist, creates the directory with all inner directories\n",
    "                if not os.path.exists(directoryCreatePath): \n",
    "                    os.makedirs(directoryCreatePath)\n",
    "                fileName = path.replace(\"01.MUD_LOG\", \"Extracted Data from 01.MUD_LOG\") #replaces 01.MUD_LOG in path variable with Extracted MUD_LOG LIS Data\n",
    "                fileName = fileName.replace(\".DLIS\", \".csv\") #changes file extension in fileName string from .LIS to .csv for output to excel spreadsheet\n",
    "                curves.to_csv(fileName) #outputs pandas dataframe to csv file at path and filename specified in fileName string\n",
    "                curves = curves[0:0] #resets pandas dataframe\n",
    "                print(f'ValueError occured in {fileName} handelled by flattening the 2d array to a a 1d array')\n",
    "                faultyDataFilesWithValueError +1\n",
    "            except RuntimeError:\n",
    "                print(f'RuntimeError occoured')\n",
    "                faultyDataFilesWithRunTimeError +=1\n",
    "        \n",
    "\n"
   ]
  },
  {
   "cell_type": "code",
   "execution_count": 18,
   "id": "5469b8f5",
   "metadata": {},
   "outputs": [
    {
     "name": "stdout",
     "output_type": "stream",
     "text": [
      "01.MUD_LOG\\15_9-F-1\\MUD_LOG_2.DLIS beginning\n",
      "01.MUD_LOG\\15_9-F-1\\MUD_LOG_2.DLIS complete\n",
      "01.MUD_LOG\\15_9-F-1 A\\MUD_LOG_2.DLIS beginning\n",
      "01.MUD_LOG\\15_9-F-1 A\\MUD_LOG_2.DLIS complete\n",
      "01.MUD_LOG\\15_9-F-1 B\\MUD_LOG_2.DLIS beginning\n",
      "01.MUD_LOG\\15_9-F-1 B\\MUD_LOG_2.DLIS complete\n",
      "01.MUD_LOG\\15_9-F-1 C\\MUD_LOG_1.DLIS beginning\n",
      "01.MUD_LOG\\15_9-F-1 C\\MUD_LOG_1.DLIS complete\n",
      "01.MUD_LOG\\15_9-F-11\\MUD_LOG_1.DLIS beginning\n",
      "01.MUD_LOG\\15_9-F-11\\MUD_LOG_1.DLIS complete\n",
      "01.MUD_LOG\\15_9-F-11 A\\MUD_LOG_1.DLIS beginning\n",
      "01.MUD_LOG\\15_9-F-11 A\\MUD_LOG_1.DLIS complete\n",
      "01.MUD_LOG\\15_9-F-11 B\\MUD_LOG_1.DLIS beginning\n",
      "01.MUD_LOG\\15_9-F-11 B\\MUD_LOG_1.DLIS complete\n",
      "01.MUD_LOG\\15_9-F-11 T2\\MUD_LOG_1.DLIS beginning\n",
      "01.MUD_LOG\\15_9-F-11 T2\\MUD_LOG_1.DLIS complete\n",
      "01.MUD_LOG\\15_9-F-15 D\\MUD_LOG_1.DLIS beginning\n",
      "01.MUD_LOG\\15_9-F-15 D\\MUD_LOG_1.DLIS complete\n",
      "completed extraction\n"
     ]
    }
   ],
   "source": [
    "for i in glob.iglob('01.MUD_LOG/*/*.DLIS'):\n",
    "# for i in glob.iglob('02.LWD_EWL\\15_9-F-1 B\\WL_RAW_AAC_MWD_1.DLIS'):\n",
    "    \n",
    "    print(i, 'beginning')\n",
    "    DLISfile(i)\n",
    "    print(i, 'complete')\n",
    "print(\"completed extraction\")"
   ]
  },
  {
   "cell_type": "markdown",
   "id": "715f52e0",
   "metadata": {},
   "source": []
  }
 ],
 "metadata": {
  "interpreter": {
   "hash": "ad2bdc8ecc057115af97d19610ffacc2b4e99fae6737bb82f5d7fb13d2f2c186"
  },
  "kernelspec": {
   "display_name": "Python 3.9.7 ('base')",
   "language": "python",
   "name": "python3"
  },
  "language_info": {
   "codemirror_mode": {
    "name": "ipython",
    "version": 3
   },
   "file_extension": ".py",
   "mimetype": "text/x-python",
   "name": "python",
   "nbconvert_exporter": "python",
   "pygments_lexer": "ipython3",
   "version": "3.9.7"
  }
 },
 "nbformat": 4,
 "nbformat_minor": 5
}
