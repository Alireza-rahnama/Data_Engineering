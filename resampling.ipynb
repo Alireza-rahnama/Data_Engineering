{
 "cells": [
  {
   "cell_type": "code",
   "execution_count": 2,
   "id": "33f8dead",
   "metadata": {},
   "outputs": [],
   "source": [
    "import pandas as pd\n",
    "import numpy as np"
   ]
  },
  {
   "cell_type": "code",
   "execution_count": 3,
   "id": "379ae469",
   "metadata": {},
   "outputs": [],
   "source": [
    "'''\n",
    "The function accepts many arguments, the first parameter would be the name of your final file,\n",
    "and the rest of arguments would accept any files you need to merge and resample\n",
    "'''\n",
    "def resample(f_arg,*args):                                      #f_arg: is your first argument, all othe argumnets\n",
    "    \n",
    "    file_names=[]\n",
    "    for arg in args:\n",
    "        file_names.append(arg)                                  #appending all the names of the files to a list\n",
    "    # print(file_names)\n",
    "    dataFrames=[]                                               #instantiating a list of pandas dataframes\n",
    "    for i in range (len(file_names)):\n",
    "        dataframe = pd.read_csv(file_names[i])\n",
    "        if \"DEPT\" in dataframe.columns:                         #the string value is the column name we want to rename for later merge and sort purposes\n",
    "            dataframe.rename(columns = {'DEPT (M   )':'DEPT'})  #we renamed the column names we want to resample and merge from 'DEPT' to 'DEPT (M   )' \n",
    "            dataframe = dataframe.set_index('DEPT')\n",
    "        if \"DEPT (M   )\" in dataframe.columns:\n",
    "            dataframe = dataframe.set_index('DEPT (M   )')      # we set 'DEPT (M   )' as the index column of the table\n",
    "\n",
    "        dataFrames.append(dataframe)                            #reads all csv files as a pandas dataframe and add the manipulated data frames to the list\n",
    "    \n",
    "    df = pd.concat(dataFrames)                                  #concatenates/merges all the dataframes into a single dataframe\n",
    "    df.index = pd.to_numeric(df.index, errors='coerce')         #chnages the index type to numeric to be able to sort the values\n",
    "    df.sort_index(inplace=True)                                 #sort the index by depth\n",
    "    df = df.drop('Unnamed: 0', axis=1)                          #drops the unnamed/ index column\n",
    "\n",
    "    df = df.interpolate('linear')                               #linearly interploates the missing values\n",
    "\n",
    "    df.reset_index(inplace=True)                                #Modify the Series in place (do not create a new object).\n",
    "    df = df.rename(columns = {'index':'DEPTH (m)'})\n",
    "    df.to_csv('{}'.format(f_arg))                           #saves the dataframe as with the first argument you passed as arguement to the function\n",
    "    print(\"Resampling completed\")\n",
    "\n"
   ]
  },
  {
   "cell_type": "code",
   "execution_count": 4,
   "id": "b4294ad5",
   "metadata": {},
   "outputs": [
    {
     "name": "stdout",
     "output_type": "stream",
     "text": [
      "Resampling completed\n"
     ]
    }
   ],
   "source": [
    "resample('test.csv','F-12-hf.csv', 'F-12-hf.csv' )\n",
    "\n",
    "\n"
   ]
  }
 ],
 "metadata": {
  "interpreter": {
   "hash": "ad2bdc8ecc057115af97d19610ffacc2b4e99fae6737bb82f5d7fb13d2f2c186"
  },
  "kernelspec": {
   "display_name": "Python 3.9.7 ('base')",
   "language": "python",
   "name": "python3"
  },
  "language_info": {
   "codemirror_mode": {
    "name": "ipython",
    "version": 3
   },
   "file_extension": ".py",
   "mimetype": "text/x-python",
   "name": "python",
   "nbconvert_exporter": "python",
   "pygments_lexer": "ipython3",
   "version": "3.9.7"
  }
 },
 "nbformat": 4,
 "nbformat_minor": 5
}
