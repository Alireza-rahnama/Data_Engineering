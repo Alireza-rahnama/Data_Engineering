{
  "nbformat": 4,
  "nbformat_minor": 0,
  "metadata": {
    "colab": {
      "name": "rf_model.ipynb",
      "provenance": [],
      "collapsed_sections": []
    },
    "kernelspec": {
      "name": "python3",
      "display_name": "Python 3"
    },
    "language_info": {
      "name": "python"
    }
  },
  "cells": [
    {
      "cell_type": "code",
      "execution_count": 8,
      "metadata": {
        "id": "FEu8gpqsRml5"
      },
      "outputs": [],
      "source": [
        "import numpy as np\n",
        "import pandas as pd\n",
        "import matplotlib.pyplot as plt \n",
        "# import seaborn as sns\n",
        "import re\n",
        "from sklearn.neighbors import KNeighborsClassifier\n",
        "from sklearn.model_selection import GridSearchCV\n",
        "from sklearn import neighbors, datasets, preprocessing\n",
        "import statsmodels.api as sm\n",
        "\n",
        "import sklearn\n",
        "from sklearn.model_selection import train_test_split\n",
        "from sklearn.preprocessing import MinMaxScaler\n",
        "from sklearn.preprocessing import PolynomialFeatures\n",
        "from sklearn.preprocessing import scale\n",
        "from sklearn.feature_selection import RFE\n",
        "from sklearn.linear_model import LinearRegression\n",
        "from sklearn.linear_model import Lasso\n",
        "from sklearn.linear_model import Lasso, LassoCV, Ridge, RidgeCV\n",
        "from sklearn.linear_model import *\n",
        "import sys\n",
        "\n",
        "from sklearn.model_selection import cross_val_score\n",
        "from sklearn.model_selection import KFold\n",
        "from sklearn.pipeline import make_pipeline\n",
        "\n",
        "from sklearn.linear_model import LassoCV\n",
        "from sklearn.linear_model import Lasso\n",
        "from sklearn.metrics import r2_score"
      ]
    },
    {
      "cell_type": "code",
      "source": [
        "from google.colab import drive\n",
        "drive.mount('/content/drive')\n"
      ],
      "metadata": {
        "colab": {
          "base_uri": "https://localhost:8080/"
        },
        "id": "mfgYrmnsRpTa",
        "outputId": "1080da01-37ef-499d-81e9-9339dcd3b17a"
      },
      "execution_count": 2,
      "outputs": [
        {
          "output_type": "stream",
          "name": "stdout",
          "text": [
            "Mounted at /content/drive\n"
          ]
        }
      ]
    },
    {
      "cell_type": "code",
      "source": [
        "\n",
        "file_dir_list=[\"/content/drive/MyDrive/Torque and ROP Modeling Data/17.5in Drilling.csv\",\"/content/drive/MyDrive/Torque and ROP Modeling Data/12.25in Drilling.csv\",\"/content/drive/MyDrive/Torque and ROP Modeling Data/8.5in Drilling.csv\"]\n",
        "# tsv_file2=sys.argv[2]\n",
        "\n",
        "dataframe_list=[pd.read_csv(i) for i in file_dir_list ]\n",
        "data = pd.concat(dataframe_list)\n",
        "if \"Unnamed: 0\" in data.columns:\n",
        "  data.drop(\"Unnamed: 0\",axis=1)\n",
        "if \"TIME\" in data.columns:\n",
        "  data=data.drop('TIME',axis=1)\n",
        "\n",
        "\n",
        "train=data.sample(frac=0.8,random_state=200)\n",
        "test=data.drop(train.index)\n",
        "\n",
        "featuresX=train[[col for col in data.columns if((col != \"ROP (m/h)\"))]]\n",
        "classY=train[[\"ROP (m/h)\"]]\n",
        "X_train, X_test, y_train, y_test = train_test_split(featuresX, classY, test_size=0.25)\n",
        "# print(classY)\n",
        "\n",
        "train.head()"
      ],
      "metadata": {
        "colab": {
          "base_uri": "https://localhost:8080/",
          "height": 317
        },
        "id": "NspH-nwDv4A-",
        "outputId": "c4743bbd-f2f9-41f1-bda8-21dfd73ba61d"
      },
      "execution_count": 9,
      "outputs": [
        {
          "output_type": "execute_result",
          "data": {
            "text/plain": [
              "        Unnamed: 0           MD   BPOS (m)     DBTM (m)    HKLD (t)  \\\n",
              "52163        52163  1554.950634  14.217200  1554.950634  128.341161   \n",
              "28308        28308  2698.326734  13.035686  2698.326734  163.172144   \n",
              "159354      159354  3188.575284  25.072848  3188.575284  124.613164   \n",
              "138823      138823  2335.209961  42.669998  2335.209961  148.246348   \n",
              "308274      308274  3544.860108  52.669998  3544.860108  145.115812   \n",
              "\n",
              "        ROP (m/h)  RPM (rpm)    SPPA (kPa)   SWOB (t)  TFLO (L/min)  ...  \\\n",
              "52163   17.958396      129.5  22980.594207   2.263130   2225.493488  ...   \n",
              "28308    9.984334      130.0  18276.863949   1.109941   3159.914307  ...   \n",
              "159354  31.290768      123.5  22598.463347  14.358466   2021.849975  ...   \n",
              "138823  19.680000      124.0  27073.999026   5.047595   3235.797142  ...   \n",
              "308274  20.240000      119.0  15349.000549   8.575813   2090.969970  ...   \n",
              "\n",
              "        rateBuild  rateTurn  sagAziCor  sagIncCor  stnGridCorUsed  \\\n",
              "52163    0.007772 -0.294593        0.0 -19.009734       -0.750124   \n",
              "28308   -0.106022  0.089536        0.0 -13.005288       -0.950000   \n",
              "159354   0.016591  0.029809        0.0   0.000000       -0.950000   \n",
              "138823   0.017030  0.184928        0.0  -7.774552       -0.286461   \n",
              "308274  -0.089572  0.053171        0.0   0.000000       -0.950000   \n",
              "\n",
              "        stnMagDeclUsed          tvd   tvdDelta     vertSect  Section  \n",
              "52163        -1.642378  1510.001790  37.889272  -141.831437    17.50  \n",
              "28308        -2.050000  2539.734290  37.367970   227.958336    12.25  \n",
              "159354       -2.090000  2706.004821  16.505703  1279.021269     8.50  \n",
              "138823       -0.627199  2220.509510  36.864748   -50.219653    17.50  \n",
              "308274       -2.080000  2892.172058  10.568615  1012.873600     8.50  \n",
              "\n",
              "[5 rows x 56 columns]"
            ],
            "text/html": [
              "\n",
              "  <div id=\"df-a45d021b-31fd-4bb4-9962-fa2e3694be53\">\n",
              "    <div class=\"colab-df-container\">\n",
              "      <div>\n",
              "<style scoped>\n",
              "    .dataframe tbody tr th:only-of-type {\n",
              "        vertical-align: middle;\n",
              "    }\n",
              "\n",
              "    .dataframe tbody tr th {\n",
              "        vertical-align: top;\n",
              "    }\n",
              "\n",
              "    .dataframe thead th {\n",
              "        text-align: right;\n",
              "    }\n",
              "</style>\n",
              "<table border=\"1\" class=\"dataframe\">\n",
              "  <thead>\n",
              "    <tr style=\"text-align: right;\">\n",
              "      <th></th>\n",
              "      <th>Unnamed: 0</th>\n",
              "      <th>MD</th>\n",
              "      <th>BPOS (m)</th>\n",
              "      <th>DBTM (m)</th>\n",
              "      <th>HKLD (t)</th>\n",
              "      <th>ROP (m/h)</th>\n",
              "      <th>RPM (rpm)</th>\n",
              "      <th>SPPA (kPa)</th>\n",
              "      <th>SWOB (t)</th>\n",
              "      <th>TFLO (L/min)</th>\n",
              "      <th>...</th>\n",
              "      <th>rateBuild</th>\n",
              "      <th>rateTurn</th>\n",
              "      <th>sagAziCor</th>\n",
              "      <th>sagIncCor</th>\n",
              "      <th>stnGridCorUsed</th>\n",
              "      <th>stnMagDeclUsed</th>\n",
              "      <th>tvd</th>\n",
              "      <th>tvdDelta</th>\n",
              "      <th>vertSect</th>\n",
              "      <th>Section</th>\n",
              "    </tr>\n",
              "  </thead>\n",
              "  <tbody>\n",
              "    <tr>\n",
              "      <th>52163</th>\n",
              "      <td>52163</td>\n",
              "      <td>1554.950634</td>\n",
              "      <td>14.217200</td>\n",
              "      <td>1554.950634</td>\n",
              "      <td>128.341161</td>\n",
              "      <td>17.958396</td>\n",
              "      <td>129.5</td>\n",
              "      <td>22980.594207</td>\n",
              "      <td>2.263130</td>\n",
              "      <td>2225.493488</td>\n",
              "      <td>...</td>\n",
              "      <td>0.007772</td>\n",
              "      <td>-0.294593</td>\n",
              "      <td>0.0</td>\n",
              "      <td>-19.009734</td>\n",
              "      <td>-0.750124</td>\n",
              "      <td>-1.642378</td>\n",
              "      <td>1510.001790</td>\n",
              "      <td>37.889272</td>\n",
              "      <td>-141.831437</td>\n",
              "      <td>17.50</td>\n",
              "    </tr>\n",
              "    <tr>\n",
              "      <th>28308</th>\n",
              "      <td>28308</td>\n",
              "      <td>2698.326734</td>\n",
              "      <td>13.035686</td>\n",
              "      <td>2698.326734</td>\n",
              "      <td>163.172144</td>\n",
              "      <td>9.984334</td>\n",
              "      <td>130.0</td>\n",
              "      <td>18276.863949</td>\n",
              "      <td>1.109941</td>\n",
              "      <td>3159.914307</td>\n",
              "      <td>...</td>\n",
              "      <td>-0.106022</td>\n",
              "      <td>0.089536</td>\n",
              "      <td>0.0</td>\n",
              "      <td>-13.005288</td>\n",
              "      <td>-0.950000</td>\n",
              "      <td>-2.050000</td>\n",
              "      <td>2539.734290</td>\n",
              "      <td>37.367970</td>\n",
              "      <td>227.958336</td>\n",
              "      <td>12.25</td>\n",
              "    </tr>\n",
              "    <tr>\n",
              "      <th>159354</th>\n",
              "      <td>159354</td>\n",
              "      <td>3188.575284</td>\n",
              "      <td>25.072848</td>\n",
              "      <td>3188.575284</td>\n",
              "      <td>124.613164</td>\n",
              "      <td>31.290768</td>\n",
              "      <td>123.5</td>\n",
              "      <td>22598.463347</td>\n",
              "      <td>14.358466</td>\n",
              "      <td>2021.849975</td>\n",
              "      <td>...</td>\n",
              "      <td>0.016591</td>\n",
              "      <td>0.029809</td>\n",
              "      <td>0.0</td>\n",
              "      <td>0.000000</td>\n",
              "      <td>-0.950000</td>\n",
              "      <td>-2.090000</td>\n",
              "      <td>2706.004821</td>\n",
              "      <td>16.505703</td>\n",
              "      <td>1279.021269</td>\n",
              "      <td>8.50</td>\n",
              "    </tr>\n",
              "    <tr>\n",
              "      <th>138823</th>\n",
              "      <td>138823</td>\n",
              "      <td>2335.209961</td>\n",
              "      <td>42.669998</td>\n",
              "      <td>2335.209961</td>\n",
              "      <td>148.246348</td>\n",
              "      <td>19.680000</td>\n",
              "      <td>124.0</td>\n",
              "      <td>27073.999026</td>\n",
              "      <td>5.047595</td>\n",
              "      <td>3235.797142</td>\n",
              "      <td>...</td>\n",
              "      <td>0.017030</td>\n",
              "      <td>0.184928</td>\n",
              "      <td>0.0</td>\n",
              "      <td>-7.774552</td>\n",
              "      <td>-0.286461</td>\n",
              "      <td>-0.627199</td>\n",
              "      <td>2220.509510</td>\n",
              "      <td>36.864748</td>\n",
              "      <td>-50.219653</td>\n",
              "      <td>17.50</td>\n",
              "    </tr>\n",
              "    <tr>\n",
              "      <th>308274</th>\n",
              "      <td>308274</td>\n",
              "      <td>3544.860108</td>\n",
              "      <td>52.669998</td>\n",
              "      <td>3544.860108</td>\n",
              "      <td>145.115812</td>\n",
              "      <td>20.240000</td>\n",
              "      <td>119.0</td>\n",
              "      <td>15349.000549</td>\n",
              "      <td>8.575813</td>\n",
              "      <td>2090.969970</td>\n",
              "      <td>...</td>\n",
              "      <td>-0.089572</td>\n",
              "      <td>0.053171</td>\n",
              "      <td>0.0</td>\n",
              "      <td>0.000000</td>\n",
              "      <td>-0.950000</td>\n",
              "      <td>-2.080000</td>\n",
              "      <td>2892.172058</td>\n",
              "      <td>10.568615</td>\n",
              "      <td>1012.873600</td>\n",
              "      <td>8.50</td>\n",
              "    </tr>\n",
              "  </tbody>\n",
              "</table>\n",
              "<p>5 rows × 56 columns</p>\n",
              "</div>\n",
              "      <button class=\"colab-df-convert\" onclick=\"convertToInteractive('df-a45d021b-31fd-4bb4-9962-fa2e3694be53')\"\n",
              "              title=\"Convert this dataframe to an interactive table.\"\n",
              "              style=\"display:none;\">\n",
              "        \n",
              "  <svg xmlns=\"http://www.w3.org/2000/svg\" height=\"24px\"viewBox=\"0 0 24 24\"\n",
              "       width=\"24px\">\n",
              "    <path d=\"M0 0h24v24H0V0z\" fill=\"none\"/>\n",
              "    <path d=\"M18.56 5.44l.94 2.06.94-2.06 2.06-.94-2.06-.94-.94-2.06-.94 2.06-2.06.94zm-11 1L8.5 8.5l.94-2.06 2.06-.94-2.06-.94L8.5 2.5l-.94 2.06-2.06.94zm10 10l.94 2.06.94-2.06 2.06-.94-2.06-.94-.94-2.06-.94 2.06-2.06.94z\"/><path d=\"M17.41 7.96l-1.37-1.37c-.4-.4-.92-.59-1.43-.59-.52 0-1.04.2-1.43.59L10.3 9.45l-7.72 7.72c-.78.78-.78 2.05 0 2.83L4 21.41c.39.39.9.59 1.41.59.51 0 1.02-.2 1.41-.59l7.78-7.78 2.81-2.81c.8-.78.8-2.07 0-2.86zM5.41 20L4 18.59l7.72-7.72 1.47 1.35L5.41 20z\"/>\n",
              "  </svg>\n",
              "      </button>\n",
              "      \n",
              "  <style>\n",
              "    .colab-df-container {\n",
              "      display:flex;\n",
              "      flex-wrap:wrap;\n",
              "      gap: 12px;\n",
              "    }\n",
              "\n",
              "    .colab-df-convert {\n",
              "      background-color: #E8F0FE;\n",
              "      border: none;\n",
              "      border-radius: 50%;\n",
              "      cursor: pointer;\n",
              "      display: none;\n",
              "      fill: #1967D2;\n",
              "      height: 32px;\n",
              "      padding: 0 0 0 0;\n",
              "      width: 32px;\n",
              "    }\n",
              "\n",
              "    .colab-df-convert:hover {\n",
              "      background-color: #E2EBFA;\n",
              "      box-shadow: 0px 1px 2px rgba(60, 64, 67, 0.3), 0px 1px 3px 1px rgba(60, 64, 67, 0.15);\n",
              "      fill: #174EA6;\n",
              "    }\n",
              "\n",
              "    [theme=dark] .colab-df-convert {\n",
              "      background-color: #3B4455;\n",
              "      fill: #D2E3FC;\n",
              "    }\n",
              "\n",
              "    [theme=dark] .colab-df-convert:hover {\n",
              "      background-color: #434B5C;\n",
              "      box-shadow: 0px 1px 3px 1px rgba(0, 0, 0, 0.15);\n",
              "      filter: drop-shadow(0px 1px 2px rgba(0, 0, 0, 0.3));\n",
              "      fill: #FFFFFF;\n",
              "    }\n",
              "  </style>\n",
              "\n",
              "      <script>\n",
              "        const buttonEl =\n",
              "          document.querySelector('#df-a45d021b-31fd-4bb4-9962-fa2e3694be53 button.colab-df-convert');\n",
              "        buttonEl.style.display =\n",
              "          google.colab.kernel.accessAllowed ? 'block' : 'none';\n",
              "\n",
              "        async function convertToInteractive(key) {\n",
              "          const element = document.querySelector('#df-a45d021b-31fd-4bb4-9962-fa2e3694be53');\n",
              "          const dataTable =\n",
              "            await google.colab.kernel.invokeFunction('convertToInteractive',\n",
              "                                                     [key], {});\n",
              "          if (!dataTable) return;\n",
              "\n",
              "          const docLinkHtml = 'Like what you see? Visit the ' +\n",
              "            '<a target=\"_blank\" href=https://colab.research.google.com/notebooks/data_table.ipynb>data table notebook</a>'\n",
              "            + ' to learn more about interactive tables.';\n",
              "          element.innerHTML = '';\n",
              "          dataTable['output_type'] = 'display_data';\n",
              "          await google.colab.output.renderOutput(dataTable, element);\n",
              "          const docLink = document.createElement('div');\n",
              "          docLink.innerHTML = docLinkHtml;\n",
              "          element.appendChild(docLink);\n",
              "        }\n",
              "      </script>\n",
              "    </div>\n",
              "  </div>\n",
              "  "
            ]
          },
          "metadata": {},
          "execution_count": 9
        }
      ]
    },
    {
      "cell_type": "code",
      "source": [
        "print(\"train:\",train.shape)\n",
        "print(\"test:\",test.shape)\n",
        "print(\"data shape: \",data.shape)"
      ],
      "metadata": {
        "colab": {
          "base_uri": "https://localhost:8080/"
        },
        "id": "tr6ZBJeKUlj-",
        "outputId": "752e21a0-c5bd-422e-9fb4-d3dc1ee92747"
      },
      "execution_count": 10,
      "outputs": [
        {
          "output_type": "stream",
          "name": "stdout",
          "text": [
            "train: (738518, 56)\n",
            "test: (117692, 56)\n",
            "data shape:  (923148, 56)\n"
          ]
        }
      ]
    },
    {
      "cell_type": "code",
      "source": [
        "def evaluate(model, test_features, test_labels):\n",
        "    predictions = model.predict(test_features)\n",
        "    errors = abs(predictions - test_labels)\n",
        "    mape = 100 * np.mean(errors / test_labels)\n",
        "    accuracy = 100 - mape\n",
        "    print('Model Performance')\n",
        "    print('Average Error: {:0.4f}'.format(np.mean(errors)))\n",
        "    print('Accuracy = {:0.4f}%.'.format(accuracy))\n",
        "    \n",
        "    return accuracy"
      ],
      "metadata": {
        "id": "rmCFFnV_MnDV"
      },
      "execution_count": 11,
      "outputs": []
    },
    {
      "cell_type": "code",
      "source": [
        "features_test_x=test[[col for col in data.columns if((col != \"ROP (m/h)\"))]]\n",
        "class_test_y=test[[\"ROP (m/h)\"]]"
      ],
      "metadata": {
        "id": "bFmFG0R2Bq3P"
      },
      "execution_count": 12,
      "outputs": []
    },
    {
      "cell_type": "code",
      "source": [
        "from pandas.core.common import random_state\n",
        "folds = KFold(n_splits = 3, shuffle = True, random_state = 100)\n",
        "\n",
        "# step-2: specify range of hyperparameters to tune\n",
        "hyper_params = [{'n_features_to_select': [55]}]\n",
        "\n",
        "\n",
        "# step-3: perform grid search\n",
        "# 3.1 specify model\n",
        "lm = LinearRegression()\n",
        "rfe = RFE(lm)             \n",
        "\n",
        "# 3.2 call GridSearchCV()\n",
        "model_cv = GridSearchCV(estimator = rfe, \n",
        "                        param_grid = hyper_params, \n",
        "                        scoring= 'r2', \n",
        "                        cv = folds, \n",
        "                        verbose = 1,\n",
        "                        return_train_score=False)  \n",
        "\n",
        "\n",
        "lr= model_cv.fit(X_train,y_train)\n",
        "y_predict=lr.predict(X_test)\n",
        "print(\"The coefficient of determination(r squared) obtained from Linear Regression:\\n\")\n",
        "######score here returns The coefficient of determination(r squared) the closer to 1 the better model\n",
        "print(lr.score(X_train,y_train),\"\\n\") \n",
        "##print(pd.DataFrame(model_cv.cv_results_))\n",
        "print(\"best model:\",model_cv.best_estimator_)\n",
        "print(\"best parameters: \",model_cv. best_params_)\n",
        "print(\"\\n\")\n"
      ],
      "metadata": {
        "colab": {
          "base_uri": "https://localhost:8080/"
        },
        "id": "lJyP0PH4mc86",
        "outputId": "0a502e9b-7662-4447-8ba4-348ab378c679"
      },
      "execution_count": 13,
      "outputs": [
        {
          "output_type": "stream",
          "name": "stdout",
          "text": [
            "Fitting 3 folds for each of 1 candidates, totalling 3 fits\n",
            "The coefficient of determination(r squared) obtained from Linear Regression:\n",
            "\n",
            "0.5997796250131262 \n",
            "\n",
            "best model: RFE(estimator=LinearRegression(), n_features_to_select=55)\n",
            "best parameters:  {'n_features_to_select': 55}\n",
            "\n",
            "\n"
          ]
        }
      ]
    },
    {
      "cell_type": "code",
      "source": [
        "# evaluate(lr,features_test_x,class_test_y.values.flatten())\n",
        "y_predicted = lr.predict(features_test_x)\n",
        "predicted=pd.DataFrame((y_predicted),columns=[\"ROP Predicted\"])\n"
      ],
      "metadata": {
        "id": "SpgBj0vAnOzc"
      },
      "execution_count": 19,
      "outputs": []
    },
    {
      "cell_type": "code",
      "source": [
        ""
      ],
      "metadata": {
        "id": "EIXuwK0vtn1t"
      },
      "execution_count": null,
      "outputs": []
    },
    {
      "cell_type": "code",
      "source": [
        "import matplotlib.pyplot as plt\n",
        "import numpy as np\n",
        "\n",
        "\n",
        "fig = plt.figure() \n",
        "\n",
        "fig.set_size_inches(14,12) \n",
        "\n",
        "y1 = class_test_y.sort_index(axis=1)\n",
        "print(y1.shape)\n",
        "\n",
        "\n",
        "y2 = predicted[[\"ROP Predicted\"]].sort_index(axis=1)\n",
        "print(y2.shape)\n",
        "\n",
        "\n",
        "plt.plot(y1, y1, color='green', linewidth=2,linestyle='-')\n",
        "plt.scatter(y1, y2, marker='o', linewidth=2,linestyle='-') \n",
        "# naming the x axis\n",
        "plt.xlabel('Actual ROP')\n",
        "# naming the y axis\n",
        "plt.ylabel('Predicted ROP')\n",
        "\n",
        "\n",
        "plt.title('Linear Regression Predicted ROP Vs. Actual ROP (m/h)')\n",
        "\n",
        "\n",
        "\n",
        "\n",
        "plt.legend()\n",
        "\n",
        "plt.show()\n"
      ],
      "metadata": {
        "colab": {
          "base_uri": "https://localhost:8080/",
          "height": 785
        },
        "id": "EVqZlRirnjM7",
        "outputId": "1a1dbead-a8a3-423f-d42b-cb6bcf841112"
      },
      "execution_count": 21,
      "outputs": [
        {
          "output_type": "stream",
          "name": "stderr",
          "text": [
            "WARNING:matplotlib.legend:No handles with labels found to put in legend.\n"
          ]
        },
        {
          "output_type": "stream",
          "name": "stdout",
          "text": [
            "(117692, 1)\n",
            "(117692, 1)\n"
          ]
        },
        {
          "output_type": "display_data",
          "data": {
            "text/plain": [
              "<Figure size 1008x864 with 1 Axes>"
            ],
            "image/png": "[encoded data removed]"
          },
          "metadata": {
            "needs_background": "light"
          }
        }
      ]
    },
    {
      "cell_type": "code",
      "source": [
        "!pip install dataprep\n",
        "from dataprep.eda import create_report\n"
      ],
      "metadata": {
        "id": "Xqzl5lobh0KN"
      },
      "execution_count": null,
      "outputs": []
    },
    {
      "cell_type": "code",
      "source": [
        "import sys\n",
        "import os\n",
        "#change the directory wher you want the EDA report saved\n",
        "output_directory='/content/drive/MyDrive/Colab Notebooks/reports/'\n",
        "if not os.path.exists(output_directory):\n",
        "  os.makedirs(output_directory)\n",
        "report=create_report(data)\n",
        "report.save(output_directory+'all_sections_combined_with_drilling_status.html')\n"
      ],
      "metadata": {
        "id": "7C-SYguYiSA_"
      },
      "execution_count": null,
      "outputs": []
    },
    {
      "cell_type": "markdown",
      "source": [
        "The most popular resampling technique to metigate overfitting is k-fold cross validation. It allows you to train and test your model k-times on different subsets of training data and build up an estimate of the performance of a machine learning model on unseen data.\n"
      ],
      "metadata": {
        "id": "fQUcVNUShUVe"
      }
    },
    {
      "cell_type": "code",
      "source": [
        "from sklearn.ensemble import RandomForestRegressor\n",
        "param_grid = {\n",
        "    'n_estimators': [10]\n",
        "    # 'max_depth': [int(x) for x in np.linspace(10, 110, num = 21)]\n",
        "             }\n",
        "# # step-1: create a cross-validation scheme\n",
        "folds = KFold(n_splits = 3, shuffle = True, random_state = 10)\n",
        "regr = RandomForestRegressor(random_state = 10)\n",
        "# # rfe_random_forest = RFE(regr,n_features_to_select=10)             \n",
        "\n",
        "m3_cv = GridSearchCV(estimator = regr,\n",
        "                     param_grid = param_grid,\n",
        "                     scoring= 'r2',\n",
        "                     cv=folds,\n",
        "                     return_train_score=False,\n",
        "                     verbose= 1,\n",
        "                     n_jobs=-1)  \n",
        "\n",
        "\n",
        "forest_model= m3_cv.fit(X_train,y_train.values.flatten())\n",
        "\n",
        "\n",
        "print(f\"The coefficient of determination(r squared) obtained from RandomForestRegressor: {forest_model.score(X_train,y_train)}\\n\")\n",
        "######score here returns The coefficient of determination(r squared) the closer to 1 the better model\n",
        "# print(m3_cv.score(X_train,y_train.values.faltten()),\"\\n\") \n",
        "##print(pd.DataFrame(m3_cv.cv_results_))\n",
        "print(\"best model:\",forest_model.best_estimator_)\n",
        "print(\"best parameters: \",forest_model.best_params_)\n",
        "print(\"\\n\")\n",
        "\n"
      ],
      "metadata": {
        "colab": {
          "base_uri": "https://localhost:8080/"
        },
        "id": "wu1fFuG_SqcV",
        "outputId": "d619510f-80be-4147-db00-05f3d53dfea4"
      },
      "execution_count": 22,
      "outputs": [
        {
          "output_type": "stream",
          "name": "stdout",
          "text": [
            "Fitting 3 folds for each of 1 candidates, totalling 3 fits\n",
            "The coefficient of determination(r squared) obtained from RandomForestRegressor: 0.9968890193284686\n",
            "\n",
            "best model: RandomForestRegressor(n_estimators=10, random_state=10)\n",
            "best parameters:  {'n_estimators': 10}\n",
            "\n",
            "\n"
          ]
        }
      ]
    },
    {
      "cell_type": "code",
      "source": [
        "evaluate(forest_model,features_test_x,class_test_y.values.flatten())"
      ],
      "metadata": {
        "colab": {
          "base_uri": "https://localhost:8080/"
        },
        "id": "T7b-oRTbC4kE",
        "outputId": "89507861-918c-4e84-d295-52145ca6e2da"
      },
      "execution_count": 23,
      "outputs": [
        {
          "output_type": "stream",
          "name": "stdout",
          "text": [
            "Model Performance\n",
            "Average Error: 0.1677\n",
            "Accuracy = 98.1508%.\n"
          ]
        },
        {
          "output_type": "execute_result",
          "data": {
            "text/plain": [
              "98.15076797493546"
            ]
          },
          "metadata": {},
          "execution_count": 23
        }
      ]
    },
    {
      "cell_type": "code",
      "source": [
        "#predict the y values\n",
        "\n",
        "y_predicted = forest_model.predict(features_test_x)\n",
        "predicted=pd.DataFrame((y_predicted),columns=[\"ROP Predicted\"])\n",
        "\n",
        "\n",
        "fig = plt.figure() \n",
        "\n",
        "fig.set_size_inches(14,12) \n",
        "# # line 1 points\n",
        "y1 = class_test_y.sort_index(axis=1)\n",
        "print(y1.shape)\n",
        "# # # plotting the line 1 points \n",
        "\n",
        "y2 = predicted[[\"ROP Predicted\"]].sort_index(axis=1)\n",
        "print(y2.shape)\n",
        "# plotting the line 2 points \n",
        "# plt.scatter(x2, y2, label = \"Predicted Data\", color='red', marker='.')\n",
        "\n",
        "plt.plot(y1, y1, color='green', linewidth=2,linestyle='-')\n",
        "plt.scatter(y1, y2, marker='o', linewidth=2,linestyle='-') \n",
        "# naming the x axis\n",
        "plt.xlabel('Actual ROP')\n",
        "# naming the y axis\n",
        "plt.ylabel('Predicted ROP')\n",
        "\n",
        "\n",
        "plt.title('Random Forest Predicted ROP Vs. Actual ROP (m/h)')\n",
        "\n",
        "# show a legend on the plot\n",
        "plt.legend()\n",
        "\n",
        "# function to show the plot\n",
        "plt.show()"
      ],
      "metadata": {
        "colab": {
          "base_uri": "https://localhost:8080/",
          "height": 785
        },
        "id": "9v8s3lVJE0EW",
        "outputId": "eaf3c8ff-620e-4a47-e82b-630dfa983e58"
      },
      "execution_count": 24,
      "outputs": [
        {
          "output_type": "stream",
          "name": "stderr",
          "text": [
            "WARNING:matplotlib.legend:No handles with labels found to put in legend.\n"
          ]
        },
        {
          "output_type": "stream",
          "name": "stdout",
          "text": [
            "(117692, 1)\n",
            "(117692, 1)\n"
          ]
        },
        {
          "output_type": "display_data",
          "data": {
            "text/plain": [
              "<Figure size 1008x864 with 1 Axes>"
            ],
            "image/png": "[encoded data removed]"
          },
          "metadata": {
            "needs_background": "light"
          }
        }
      ]
    },
    {
      "cell_type": "code",
      "source": [
        "from numpy import asarray\n",
        "from pandas import read_csv\n",
        "from xgboost import XGBRegressor\n",
        "# load the dataset\n",
        "\n",
        "# define model\n",
        "model = XGBRegressor()\n",
        "# fit model\n",
        "model.fit(X_train, y_train)\n",
        "# define new data\n",
        "# new_data = asarray([row])\n",
        "# make a prediction\n",
        "yhat = model.predict(X_test)\n",
        "# summarize prediction"
      ],
      "metadata": {
        "colab": {
          "base_uri": "https://localhost:8080/"
        },
        "id": "jyVWw-BT1zTA",
        "outputId": "42435075-1416-488f-dd53-b1f3ad76bc21"
      },
      "execution_count": 25,
      "outputs": [
        {
          "output_type": "stream",
          "name": "stdout",
          "text": [
            "[13:56:15] WARNING: /workspace/src/objective/regression_obj.cu:152: reg:linear is now deprecated in favor of reg:squarederror.\n"
          ]
        }
      ]
    },
    {
      "cell_type": "code",
      "source": [
        "print(\"the coefficient determination  of XGBoost is: \", model.score(X_train, y_train))"
      ],
      "metadata": {
        "colab": {
          "base_uri": "https://localhost:8080/"
        },
        "id": "fgZPWMGa5Ltm",
        "outputId": "0d9abb46-c928-4a1f-8ee6-4f64c4df4957"
      },
      "execution_count": 26,
      "outputs": [
        {
          "output_type": "stream",
          "name": "stdout",
          "text": [
            "the coefficient determination  of XGBoost is:  0.7883310836807551\n"
          ]
        }
      ]
    },
    {
      "cell_type": "code",
      "source": [
        "evaluate(model,features_test_x,class_test_y.values.flatten())"
      ],
      "metadata": {
        "colab": {
          "base_uri": "https://localhost:8080/"
        },
        "id": "cTMJDBfR2Hza",
        "outputId": "7c75cf3e-3619-43e9-eab6-6dd31eeec032"
      },
      "execution_count": 27,
      "outputs": [
        {
          "output_type": "stream",
          "name": "stdout",
          "text": [
            "Model Performance\n",
            "Average Error: 2.5353\n",
            "Accuracy = 58.0852%.\n"
          ]
        },
        {
          "output_type": "execute_result",
          "data": {
            "text/plain": [
              "58.08523789934999"
            ]
          },
          "metadata": {},
          "execution_count": 27
        }
      ]
    },
    {
      "cell_type": "code",
      "source": [
        "#predict the y values\n",
        "\n",
        "y_predicted = model.predict(features_test_x)\n",
        "predicted=pd.DataFrame((y_predicted),columns=[\"ROP Predicted\"])\n",
        "\n",
        "\n",
        "fig = plt.figure() \n",
        "\n",
        "fig.set_size_inches(14,12) \n",
        "# # line 1 points\n",
        "y1 = class_test_y.sort_index(axis=1)\n",
        "print(y1.shape)\n",
        "# # # plotting the line 1 points \n",
        "\n",
        "y2 = predicted[[\"ROP Predicted\"]].sort_index(axis=1)\n",
        "print(y2.shape)\n",
        "# plotting the line 2 points \n",
        "# plt.scatter(x2, y2, label = \"Predicted Data\", color='red', marker='.')\n",
        "\n",
        "plt.plot(y1, y1, color='green', linewidth=2,linestyle='-')\n",
        "plt.scatter(y1, y2, marker='o', linewidth=2,linestyle='-') \n",
        "# naming the x axis\n",
        "plt.xlabel('Actual ROP')\n",
        "# naming the y axis\n",
        "plt.ylabel('Predicted ROP')\n",
        "\n",
        "\n",
        "plt.title('XGBoost Predicted ROP Vs. Actual ROP (m/h)')\n",
        "\n",
        "# show a legend on the plot\n",
        "plt.legend()\n",
        "\n",
        "# function to show the plot\n",
        "plt.show()"
      ],
      "metadata": {
        "colab": {
          "base_uri": "https://localhost:8080/",
          "height": 785
        },
        "id": "ojAjRDE_KBC6",
        "outputId": "4745adbc-5483-49de-f4e7-7d13950c116e"
      },
      "execution_count": 30,
      "outputs": [
        {
          "output_type": "stream",
          "name": "stderr",
          "text": [
            "WARNING:matplotlib.legend:No handles with labels found to put in legend.\n"
          ]
        },
        {
          "output_type": "stream",
          "name": "stdout",
          "text": [
            "(117692, 1)\n",
            "(117692, 1)\n"
          ]
        },
        {
          "output_type": "display_data",
          "data": {
            "text/plain": [
              "<Figure size 1008x864 with 1 Axes>"
            ],
            "image/png": "[encoded data removed]"
          },
          "metadata": {
            "needs_background": "light"
          }
        }
      ]
    },
    {
      "cell_type": "markdown",
      "source": [
        "But overfitting should not be confused with model selection.\n",
        "\n",
        "We choose a predictive model or model configuration based on its out-of-sample performance. That is, its performance on new data not seen during training.\n"
      ],
      "metadata": {
        "id": "dU3S79LEhMYw"
      }
    }
  ]
}