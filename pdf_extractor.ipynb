{
 "cells": [
  {
   "cell_type": "code",
   "execution_count": 13,
   "id": "8cb050ff",
   "metadata": {},
   "outputs": [],
   "source": [
    "# !pip install tika"
   ]
  },
  {
   "cell_type": "code",
   "execution_count": 14,
   "metadata": {},
   "outputs": [],
   "source": [
    "from tika import parser # pdf text parser"
   ]
  },
  {
   "cell_type": "code",
   "execution_count": 15,
   "id": "eeb294f1",
   "metadata": {},
   "outputs": [],
   "source": [
    "import pandas as pd\n",
    "from io import StringIO"
   ]
  },
  {
   "cell_type": "code",
   "execution_count": 16,
   "id": "8ef8f0c7",
   "metadata": {},
   "outputs": [
    {
     "name": "stdout",
     "output_type": "stream",
     "text": [
      "05:30 06:00 459 drilling -- drill ok Drilled/oriented 12 1/4\" hole from 436 m to 459 m with 2800 lpm, 89 bar, WOB 3-5 ton. ROP 45-60 m/hr.\n",
      "06:00 07:15 500 drilling -- drill ok Drilled/oriented 12 1/4\" hole from 459 m to 500 m with 2800 lpm, 89-92 bar, WOB 4-7 ton. ROP 45 m/hr.\n",
      "07:45 08:15 511 drilling -- drill ok Drilled/oriented 12 1/4\" hole from 500 m to 511 m with 3000 lpm, 100-105 bar, 38 rpm, 4-7 kNm, WOB 4-6 ton. ROP 45 m/hr.\n",
      "09:15 11:30 553 drilling -- drill ok Drilled/oriented 12 1/4\" hole from 511 m to 553 m with 3000 lpm, 94-103 bar, 0-40 rpm, 3-5 kNm, WOB 4-6 ton. ROP 30-35 m/hr.\n",
      "11:45 17:30 714 drilling -- drill ok Drilled/oriented 12 1/4\" hole from 553 m to 714 m with 3250-3500 lpm, 115-140 bar, 0-40 rpm, 4-8 kNm, WOB 4-8 ton. ROP 40-50 m/hr.  Unable to receive G\n",
      "19:30 00:00 822 drilling -- drill ok Drilled/oriented 12 1/4\" hole from 714 m to 822 m with 3500 lpm, 140 bar, 0-40 rpm, 4-8 kNm, WOB 4-8 ton. ROP 30-40 m/hr.\n"
     ]
    }
   ],
   "source": [
    "\n",
    "import os, glob, PyPDF2, sys, csv\n",
    "\n",
    "file_path = r'C:\\Users\\arahnamamaha\\Desktop\\pdf exrractor'                                      #the directory of your code and files to be extracted\n",
    "read_files = glob.glob(os.path.join(file_path,'*.pdf'))                                         #finds all pdf files\n",
    "with open('results.txt', 'w') as f:                                                             #opens a new txt file and writes the extracted data as a a text format\n",
    "\n",
    "    \n",
    "    for file in read_files:                                                                     #loop through all pdf files\n",
    "        raw = parser.from_file(file)                                                            #parse the text in the file\n",
    "        text=raw['content']\n",
    "        text.split('\\n')                                                                        #splits the text line by line\n",
    "\n",
    "        result=[ line for line in text.split('\\n') if \"ok Drilled/oriented\" in line ]           #looks for the specific text we are looking for in the lines and add them to a list\n",
    "        stitchedText=' '\n",
    "        \n",
    "        for i in range(len(result)):                                                            #writes the extracted texts line by line in .txt format\n",
    "            print(result[i])\n",
    "            f.write(result[i])\n",
    "            f.write('\\n')\n"
   ]
  },
  {
   "cell_type": "code",
   "execution_count": 17,
   "metadata": {},
   "outputs": [
    {
     "name": "stderr",
     "output_type": "stream",
     "text": [
      "c:\\ProgramData\\Anaconda3\\lib\\site-packages\\pandas\\util\\_decorators.py:311: ParserWarning: Falling back to the 'python' engine because the 'c' engine does not support regex separators (separators > 1 char and different from '\\s+' are interpreted as regex); you can avoid this warning by specifying engine='python'.\n",
      "  return func(*args, **kwargs)\n"
     ]
    }
   ],
   "source": [
    "read_file = pd.read_csv(r'C:\\Users\\arahnamamaha\\Desktop\\pdf exrractor\\results.txt', sep=\"   \")\n",
    "read_file.to_csv(r'C:\\Users\\arahnamamaha\\Desktop\\pdf exrractor\\results.csv', index=None)"
   ]
  },
  {
   "cell_type": "code",
   "execution_count": 26,
   "id": "d80cef7c",
   "metadata": {},
   "outputs": [
    {
     "name": "stdout",
     "output_type": "stream",
     "text": [
      "  Start time End time End Depth mMD  \\\n",
      "0      05:30    06:00           459   \n",
      "1      06:00    07:15           500   \n",
      "2      07:45    08:15           511   \n",
      "3      09:15    11:30           553   \n",
      "4      11:45    17:30           714   \n",
      "\n",
      "                                              Remark  \n",
      "0  drilling -- drill ok Drilled/oriented 12 1/4\" ...  \n",
      "1  drilling -- drill ok Drilled/oriented 12 1/4\" ...  \n",
      "2  drilling -- drill ok Drilled/oriented 12 1/4\" ...  \n",
      "3  drilling -- drill ok Drilled/oriented 12 1/4\" ...  \n",
      "4  drilling -- drill ok Drilled/oriented 12 1/4\" ...  \n"
     ]
    }
   ],
   "source": [
    "dff=pd.read_csv(\"results.csv\",delimiter=' ',header=None)\n",
    "dff.head()\n",
    "txtFile=open(\"results.txt\",'r')\n",
    "datafra=[]\n",
    "for line in txtFile.readlines():\n",
    "    txts=\"     \".join(line.split(\" \", 3)[:])                                            #it splits the first 3 space separated string objects in each line and join them together by placing \"     \" space between them\n",
    "    # print(\"txts:\",txts)\n",
    "    datafra.append(txts)                                                                #appends the formatted line to a new list\n",
    "# print(datafra)\n",
    "\n",
    "newList=[]\n",
    "for item in datafra:\n",
    "    newList.append(item.split(\"     \"))\n",
    "\n",
    "df = pd.DataFrame(newList, columns =['Start time', 'End time','End Depth mMD','Remark']) #creates a new dataframe with defined headers and the parsed data\n",
    "df.to_csv('finalResults.csv')\n",
    "print(df.head())\n",
    "\n"
   ]
  }
 ],
 "metadata": {
  "interpreter": {
   "hash": "ad2bdc8ecc057115af97d19610ffacc2b4e99fae6737bb82f5d7fb13d2f2c186"
  },
  "kernelspec": {
   "display_name": "Python 3.9.7 ('base')",
   "language": "python",
   "name": "python3"
  },
  "language_info": {
   "codemirror_mode": {
    "name": "ipython",
    "version": 3
   },
   "file_extension": ".py",
   "mimetype": "text/x-python",
   "name": "python",
   "nbconvert_exporter": "python",
   "pygments_lexer": "ipython3",
   "version": "3.9.7"
  }
 },
 "nbformat": 4,
 "nbformat_minor": 5
}
